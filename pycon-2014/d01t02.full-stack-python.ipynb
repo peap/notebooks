{
 "metadata": {
  "name": "",
  "signature": "sha256:19e2a13db2220fe6a5f9c84bf6b03eab83ae5394b0d7f052d187bf78e2d1f5c8"
 },
 "nbformat": 3,
 "nbformat_minor": 0,
 "worksheets": [
  {
   "cells": [
    {
     "cell_type": "heading",
     "level": 1,
     "metadata": {},
     "source": [
      "So you want to be a full-stack developer? How to build a full-stack python web application."
     ]
    },
    {
     "cell_type": "heading",
     "level": 6,
     "metadata": {},
     "source": [
      "Kate Heddleston ([resources on GitHub](https://github.com/heddle317/full-stack-resources/))"
     ]
    },
    {
     "cell_type": "markdown",
     "metadata": {},
     "source": [
      "Python is often one part of a much larger system.\n",
      "\n",
      "## Topics to be covered\n",
      "* A (semi) typical web application\n",
      " * Dev, staging, production, deploy system\n",
      "* Helpful python libraries\n",
      " * Not going to be covered\n",
      " * massively scalable web apps\n",
      " * every single installation on the machine\n",
      " * nitty gritty details of anything\n",
      "\n",
      "There's a song!\n",
      "\n",
      "## Parts of a stack\n",
      "*  Operating system\n",
      "*  Web server\n",
      "*  Database\n",
      "*  Application language\n",
      "\n",
      "## Adding to the stack\n",
      "*  Logging\n",
      " * small apps can just use log files on the server machine\n",
      "* Version Control\n",
      " * git, svn, etc.\n",
      "* SMTP server for sending emails\n",
      "* Asynchronous tasks + data store\n",
      " * Python-rq/Redis\n",
      " * Celery/RabbitMQ\n",
      " * Twisted\n",
      " * Tornado\n",
      "*  Exception handling\n",
      " * emails!\n",
      "\n",
      "## Scaling; move everything to new servers!\n",
      "* Need to make network calls\n",
      "* May want to cache some database calls...\n",
      " * memcached, redis, etc.\n",
      "* Logging moves off...\n",
      "* Monitoring\n",
      " * New Relic, etc.\n",
      "* Load balancer to multiple web servers\n",
      "* Database replications: master -> slave configuration\n",
      "\n",
      "## The system of systems\n",
      "*  different environments: dev, prod\n",
      "\n",
      "## Testing\n",
      "* Jenkins, CircleCI, TravisCI\n",
      "\n",
      "## Multiple developers\n",
      "*  dev/dev/dev --> staging --> testing --> production\n",
      "* want all envs to be the same\n",
      "\n",
      "## Server provisioning automation and deployment\n",
      "* chef, puppet, ansible, etc.\n",
      "\n",
      "## Development environment automation\n",
      "* virtualenv, vagrant/virtualbox\n",
      "\n",
      "## Hosting\n",
      "* AWS, RackSpace, Linode, etc.\n",
      "* See example: https://github.com/heddle317/django-chef-application\n",
      "* Or, PaaS: Heroku, Elastic Beanstalk\n"
     ]
    }
   ],
   "metadata": {}
  }
 ]
}