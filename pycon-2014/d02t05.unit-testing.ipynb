{
 "metadata": {
  "name": "",
  "signature": "sha256:12517cc38047452860877c5bd96ab0d377f53cc5457309e766740b85572141bd"
 },
 "nbformat": 3,
 "nbformat_minor": 0,
 "worksheets": [
  {
   "cells": [
    {
     "cell_type": "markdown",
     "metadata": {},
     "source": [
      "# Unit Testing Makes Your Code Better\n",
      "###### Greg Ward\n",
      "###### [http://gerg.ca/](http://gerg.ca/)\n",
      "\n",
      "It's for the common good.\n",
      "\n",
      "Unit Testing makes your code more beautiful. Beautiful is better code.\n",
      "* easier to understand\n",
      "* easier to extend\n",
      "* easier to reuse\n",
      "\n",
      "## A Real Life Case Study\n",
      "* Demonstrating how adding tests helps you have better code\n",
      "* Better code means simpler tests\n",
      "\n",
      "### Background\n",
      "* what is it?\n",
      "* why does it exist?\n",
      "* where does it come from?\n",
      "* what requirements does it meet?\n",
      "\n",
      "### Their code measures the Internet\n",
      "* lots of pings\n",
      "* lots of traceroutes\n",
      "* lots of TSV files\n",
      "\n",
      "### Where to start testing?\n",
      "* You can't test an object if you can't construct it, so start with the constructor!\n",
      "* The goes double if the constructors does interesting things\n",
      "* Write tests to cover all code paths\n",
      "\n",
      "### What did this help with?\n",
      "* writing the tests made me look deeper\n",
      "* make me read the code very carefully\n",
      "* made me see both the good side and the bad side of the code\n",
      "\n",
      "### Gives you the \"courage to refactor\"\n",
      "\n",
      "### Costs of Not Testing\n",
      "* Untested code is buggy code\n",
      "* Incorrect code\n",
      "* Fear of refactoring\n",
      "* Code duplication --> bug duplication\n",
      "* Insufficient code reuse\n",
      "\n",
      "### Don't let this get you down!\n",
      "* 1000 tests are better than 999\n",
      "* 1 test is _vastly_ better than 0 tests\n",
      "* unit tests will never cover everything\n",
      "* but you'll be pleasantly surprised by how much you can over with some effort\n",
      "\n",
      "## Conclusions\n",
      "* tested code is better code\n",
      "* writing unit tests makes your code more beautiful"
     ]
    }
   ],
   "metadata": {}
  }
 ]
}