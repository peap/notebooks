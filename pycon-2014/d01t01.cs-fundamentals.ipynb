{
 "metadata": {
  "name": "",
  "signature": "sha256:63cccf39d0c22eecad5118495338c6ad502ae961197a7281809af1fcbf543830"
 },
 "nbformat": 3,
 "nbformat_minor": 0,
 "worksheets": [
  {
   "cells": [
    {
     "cell_type": "heading",
     "level": 1,
     "metadata": {},
     "source": [
      "Computer Science Fundamentals for Self-Taught Programmers"
     ]
    },
    {
     "cell_type": "heading",
     "level": 6,
     "metadata": {},
     "source": [
      "Justin Abrahms"
     ]
    },
    {
     "cell_type": "markdown",
     "metadata": {},
     "source": [
      "Resources\n",
      "---------\n",
      "* The Algorithm Design Manual\n",
      " * Steven S. Skiena\n",
      " *  http://algorist.com\n",
      "* Algorithms: Design and Analysis, Part 1\n",
      " * Coursera\n",
      " * https://www.coursera.org/course/algo\n",
      "* Computer Science for Self-Taught Programmers\n",
      " * Justin Abrahms (this speaker)\n"
     ]
    },
    {
     "cell_type": "markdown",
     "metadata": {},
     "source": [
      "Big-O notation\n",
      "--------------\n",
      "* O(1)\n",
      " * array lookup\n",
      "* O(n)\n",
      " * for-loop over every item\n",
      "* O(log n)\n",
      " * binary search\n",
      "  * Is 4 in the list range(11), which is sorted?\n",
      "  * Is 4 > 6? No, ignore the last half of the list\n",
      "  * Is 4 > 3? Yes, ignore the first half of the remainder\n",
      "  * ...\n",
      "* O(n^2)\n",
      " * nested for-loop\n",
      "* Gotchas\n",
      " * The Big-O of a function might not matter...\n",
      " * Theoretical speed is different than practical speed.\n",
      " * This is probably not going to make your app faster\n",
      "* Recap\n",
      " * Useful in communicating about complexity of code\n",
      " * basic arithmetic and algebra\n",
      " * used in talking about data structures and algorithms\n"
     ]
    }
   ],
   "metadata": {}
  }
 ]
}