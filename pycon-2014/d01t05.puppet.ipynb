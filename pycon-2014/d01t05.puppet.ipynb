{
 "metadata": {
  "name": "",
  "signature": "sha256:9244bcbc2f0ecc6c66bbbf6e812c886e08f3adbd2a77993e6726e219a4fce5f0"
 },
 "nbformat": 3,
 "nbformat_minor": 0,
 "worksheets": [
  {
   "cells": [
    {
     "cell_type": "markdown",
     "metadata": {},
     "source": [
      "# Puppet\n",
      "###### Justin Bronn [jbronn on GitHub](https://github.com/jbronn)\n",
      "\n",
      "## Configuration Management\n",
      "* Why do we need it? Complexity.\n",
      "* Even a \"simple\" web app has a large number of components\n",
      "\n",
      "## Why Puppet and not another one\n",
      "* SaltStack: homegrown crypt.py\n",
      "* Ansible: GPLv3\n",
      "\n",
      "## Basic\n",
      "* Resources\n",
      "* Declarative\n",
      "* Facts with Facter\n",
      " * Access in your code at `$::whatever`\n",
      "\n",
      "## Resource Ordering\n",
      "* Other resources are referenced with the type capitalized and the name quoted as a key --> Package['openssh-server']\n",
      "* Subscribe metaparameter\n",
      "* Notify metaparameter\n",
      "* Chaining arrows: Package['ssh'] -> File['/etc/ssh/sshd_config']\n",
      "\n",
      "* Modules\n",
      "* containers for puppet code\n",
      "* analogous to python modules\n",
      "* puppet forge: https://forge.puppetlabs.com\n",
      " * lookup django-forge on github if you want to run your own puppet forge\n",
      "* $ puppet module install [module-name]\n",
      "* Modulefile describes the module\n",
      "* entry point is manifests/init.pp\n",
      "* templates files go in templates/\n",
      "* static files go in files/\n",
      "\n",
      "## Writing modules for python apps\n",
      "```\n",
      "    class pyapp {\n",
      "        include python\n",
      "        include python::virtualenv\n",
      "        include redis\n",
      "        include nginx\n",
      "    }\n",
      "```\n",
      "* pipx provider\n",
      "* venv type to create virtualenvs\n",
      "* venv_package type\n",
      "\n",
      "## Tracking: puppet board\n",
      "\n",
      "## Module development\n",
      "* Use Vagrant!\n",
      "* Packer; see his example at github:jbronn/packer-vagrant.git\n"
     ]
    }
   ],
   "metadata": {}
  }
 ]
}