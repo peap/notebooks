{
 "metadata": {
  "name": "",
  "signature": "sha256:7a3de0fd90d3fb8b29535e1f5174e0af59b77e12305cd58a4f999baf8221dcf5"
 },
 "nbformat": 3,
 "nbformat_minor": 0,
 "worksheets": [
  {
   "cells": [
    {
     "cell_type": "markdown",
     "metadata": {},
     "source": [
      "# A Quick & Dirty Guide to Putting Things on the Internet\n",
      "###### Katherine A. Scott\n",
      "###### [GitHub: kscottz/SkinnerBox](github:kscottz/SkinnerBox.git)\n",
      "\n",
      "## There are two camps...\n",
      "* Build stuff with software people\n",
      "* Web software people\n",
      "\n",
      "## She hooked her rats up to the Internet\n",
      "* Skinner box\n",
      " * These cost ~$10,000!\n",
      " * you can build one with a raspberry pi for $100\n",
      "\n",
      "## What does the software do?\n",
      "* display camera images\n",
      "* record activity over time\n",
      "* remote control feed\n",
      "* run and record experiments\n",
      "* display experiment results\n",
      "\n",
      "## What components do we use?\n",
      "* Motor/buzzer/switch\n",
      " *  GPIO thread\n",
      "* Camera\n",
      " *  PiCamera, OpenCV, Numpy\n",
      "*  experiments\n",
      " *  mongo, numpy, matplotlib\n",
      "*  webpage\n",
      " *  bottle, bootstrap\n"
     ]
    }
   ],
   "metadata": {}
  }
 ]
}