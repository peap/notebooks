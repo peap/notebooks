{
 "metadata": {
  "name": "",
  "signature": "sha256:ea8eddc154500f18e00db3d23c79c0014eec82369f7c7b0b3cfb73f521be67fc"
 },
 "nbformat": 3,
 "nbformat_minor": 0,
 "worksheets": [
  {
   "cells": [
    {
     "cell_type": "heading",
     "level": 1,
     "metadata": {},
     "source": [
      "Introduction to Docker"
     ]
    },
    {
     "cell_type": "heading",
     "level": 6,
     "metadata": {},
     "source": [
      "Amjith Ramanujam (New Relic) (@amjithr)"
     ]
    },
    {
     "cell_type": "markdown",
     "metadata": {},
     "source": [
      "Typical Stack\n",
      "-------------\n",
      "* Django\n",
      "* Apache/gunicorn\n",
      "* Celery\n",
      "* Redis/DB\n",
      "\n",
      "Deployment environment doesn't always match dev environment..."
     ]
    },
    {
     "cell_type": "markdown",
     "metadata": {},
     "source": [
      "What is Docker?\n",
      "---------------\n",
      "* DotCloud -> Docker Inc\n",
      "* Started in January 2013\n",
      "* Written in Go\n",
      "* Similar to chroot, BSD jails, Solaris Zones... a little sandbox\n",
      "* Uses Linux Containers (in kernel for ~5 years)\n",
      "* AUFS\n",
      " * Union file system\n",
      " * Copy on write\n",
      "* Git-like versioning\n",
      "* REST API\n",
      "\n",
      "Why?\n",
      "----\n",
      "* Lightwieght\n",
      "* isolated instances\n",
      "* faster than VMs\n",
      " * startup in < 1s\n",
      " \n",
      "Setup\n",
      "-----\n",
      "* docs.docker.io\n",
      "* OS X: boot2docker (~25 MB VM) + docker client"
     ]
    },
    {
     "cell_type": "markdown",
     "metadata": {},
     "source": [
      "Demo Commands\n",
      "-------------\n",
      "```bash\n",
      "    $ docker images\n",
      "    $ docker run\n",
      "    $ docker run -d ... # run in daemon mode\n",
      "    $ docker commit\n",
      "    $ docker push\n",
      "    $ docker run -p ...  # bind port\n",
      "```\n",
      "\n",
      "Dockerfile\n",
      "----------\n",
      "Fortunate Cow\n",
      "```\n",
      "    FROM base\n",
      "    ENV TEST_ENV true\n",
      "    ADD test_file /\n",
      "    RUN apt-get update\n",
      "    RUN apt-get install -y fortune cowsay\n",
      "    CMD fortune | cowsay\n",
      "```"
     ]
    }
   ],
   "metadata": {}
  }
 ]
}