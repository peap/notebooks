{
 "metadata": {
  "name": ""
 },
 "nbformat": 3,
 "nbformat_minor": 0,
 "worksheets": [
  {
   "cells": [
    {
     "cell_type": "markdown",
     "metadata": {},
     "source": [
      "# Blueque\n",
      "_Thomas Stephens_ (uStudio)  \n",
      "https://github.com/ustudio/Blueque  \n",
      "http://ustudio.github.io/Blueque/introducing-blueque.html"
     ]
    },
    {
     "cell_type": "markdown",
     "metadata": {},
     "source": [
      "## Problems with celery\n",
      "\n",
      "* Restarts  \n",
      "* Long tasks don't work great  \n",
      "* Can't turn off pre-fetching  \n",
      "* No good docs about the internals  \n",
      "* Hard to scale dynamically  \n",
      "* Making more queues is not a great fix, either  \n",
      "\n",
      "## Desired features\n",
      "\n",
      "* introspectable\n",
      "* resilient\n",
      "* no time outs\n",
      "* simple\n",
      "* don't prefetch\n",
      "* scheduled tasks\n",
      "\n",
      "## How does it work?\n",
      "\n",
      "* fundamental buiding block is lpoprpush\n",
      "* move task IDs between lists atomically\n",
      "* workers poll queues for things for run (rather than publish/subscribe)\n",
      "* monitors poll complete/failed lists for things to report back\n",
      "* schedule polls for scheduled tasks (sorted set in reddit)"
     ]
    },
    {
     "cell_type": "code",
     "collapsed": false,
     "input": [
      "import time\n",
      "from blueque import Client\n",
      "from blueque import forking_runner\n",
      "\n",
      "\n",
      "def do_work(task):\n",
      "    print(task.id, task.parameters)\n",
      "    time.sleep(1000)\n",
      "    return 'result'\n",
      "\n",
      "if __name__ == '__main__':\n",
      "    client = Client(hostname='localhost', port=6379, db=0)\n",
      "    forking_runner.run(client, 'some.queue', do_work)"
     ],
     "language": "python",
     "metadata": {},
     "outputs": []
    },
    {
     "cell_type": "code",
     "collapsed": false,
     "input": [
      "from blueque import Client\n",
      "\n",
      "import time\n",
      "\n",
      "client = Client()\n",
      "queue = client.get_queue()\n",
      "# ..."
     ],
     "language": "python",
     "metadata": {},
     "outputs": []
    },
    {
     "cell_type": "markdown",
     "metadata": {},
     "source": [
      "## What was hard?\n",
      "\n",
      "* Atomicity\n",
      " * In redis, you can only really be atomic if you know all the keys you need ahead of time\n",
      " * They just use transactions and make sure the first, atomic transaction is the single authoritative source (lpoprpush)\n",
      "* Multiple processes / threads\n",
      "\n",
      "## Next steps\n",
      "\n",
      "* 2.5 million tasks since July 2nd\n",
      "* use pub/sub instead of polling\n",
      "* build admin tools\n",
      "* documentation"
     ]
    }
   ],
   "metadata": {}
  }
 ]
}