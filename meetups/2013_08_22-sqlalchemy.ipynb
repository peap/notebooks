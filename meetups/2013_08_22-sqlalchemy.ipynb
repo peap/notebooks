{
 "metadata": {
  "name": ""
 },
 "nbformat": 3,
 "nbformat_minor": 0,
 "worksheets": [
  {
   "cells": [
    {
     "cell_type": "markdown",
     "metadata": {},
     "source": [
      "# Let's Drink Heavily with SQL\n",
      "_Noah Seger_  \n",
      "Lead Developer, Texas Tribune"
     ]
    },
    {
     "cell_type": "code",
     "collapsed": false,
     "input": [
      "pip install sqlalchemy"
     ],
     "language": "python",
     "metadata": {},
     "outputs": []
    },
    {
     "cell_type": "markdown",
     "metadata": {},
     "source": [
      "## SQLAlchemy\n",
      "\n",
      "* Enterprise-level toolkit (not an ORM)\n",
      "* Only ORM that lets your take full advantage of your database\n",
      "* Models the whole SQL domain\n",
      " * engine: backend that can generate connections with a set of capabilities\n",
      " * table,s columns, indexes\n",
      " * data types\n",
      " * functions, operators, views\n",
      " * metadata: object that holds complete set of tables, constraints, and relationships, bound to an engine"
     ]
    },
    {
     "cell_type": "code",
     "collapsed": false,
     "input": [
      "from django.db.models.loading import cache\n",
      "cache.get_apps()\n",
      "# one global app-cache"
     ],
     "language": "python",
     "metadata": {},
     "outputs": []
    },
    {
     "cell_type": "markdown",
     "metadata": {},
     "source": [
      "## Several layers of APIs\n",
      "\n",
      "* SQL expression language\n",
      "* object-relational mapper\n",
      "* declarative base"
     ]
    },
    {
     "cell_type": "code",
     "collapsed": false,
     "input": [
      "from sqlalchemy import *\n",
      "\n",
      "engine = create_engine('sqlite:///tx_people.db', echo=True)\n",
      "metadata = MetaData(bind=engine)\n",
      "connection = metadata.bind\n",
      "\n",
      "politicians = Table(\n",
      "    'politicians',\n",
      "    metadata,\n",
      "    Column('id', Integer, primary_key=True),\n",
      "    Column('politician_name', String, nullable=False)\n",
      ")\n",
      "\n",
      "metadata.create_all()\n",
      "\n",
      "connection.execute(politicians.insert(), [\n",
      "    {'politician_name': 'Rick Perry'},\n",
      "    {'politician_name': 'Wendy Davis'},\n",
      "])"
     ],
     "language": "python",
     "metadata": {},
     "outputs": []
    },
    {
     "cell_type": "markdown",
     "metadata": {},
     "source": [
      "It's a toolkit; there are high-level tools, as well."
     ]
    },
    {
     "cell_type": "code",
     "collapsed": false,
     "input": [
      "from sqlalchemy import *\n",
      "\n",
      "Base = declarative_base()\n",
      "\n",
      "class Politician(Base):\n",
      "    __tablename__ = 'politicians'\n",
      "    id = Column(Integer, primary_key=True)\n",
      "    name = Column(string, nullable=False)\n",
      "    \n",
      "class Office(Base):\n",
      "    __tablename__ = 'office'\n",
      "    # ...\n",
      "\n",
      "engine = ''...\n",
      "Base.metadata.creat_all(engine)"
     ],
     "language": "python",
     "metadata": {},
     "outputs": []
    },
    {
     "cell_type": "markdown",
     "metadata": {},
     "source": [
      "## Unit of Work and the Session"
     ]
    },
    {
     "cell_type": "code",
     "collapsed": false,
     "input": [
      "politician = Politician('Rick Perry')\n",
      "\n",
      "governor = Office(politician, title='Governor')\n",
      "\n",
      "#... more transactions\n",
      "\n",
      "# commit session all at once"
     ],
     "language": "python",
     "metadata": {},
     "outputs": []
    },
    {
     "cell_type": "markdown",
     "metadata": {},
     "source": [
      "## SQLAlchemy vs. Django ORM"
     ]
    },
    {
     "cell_type": "code",
     "collapsed": false,
     "input": [
      "# SQLAlchemy\n",
      "session.query(Politician).all()\n",
      "\n",
      "# Django\n",
      "Politician.objects.all()"
     ],
     "language": "python",
     "metadata": {},
     "outputs": []
    },
    {
     "cell_type": "code",
     "collapsed": false,
     "input": [
      "# SQLAlchemy (can handle multi-column PKs)\n",
      "session.query(Politician).get(1)\n",
      "\n",
      "# Django\n",
      "Politician.objects.get(pk=1)"
     ],
     "language": "python",
     "metadata": {},
     "outputs": []
    },
    {
     "cell_type": "code",
     "collapsed": false,
     "input": [
      "# SQLAlchemy\n",
      "session.query(Politician).first()\n",
      "\n",
      "# Django\n",
      "next(iter(Politician.objects.all(), None))"
     ],
     "language": "python",
     "metadata": {},
     "outputs": []
    },
    {
     "cell_type": "markdown",
     "metadata": {},
     "source": [
      "## More good stuff\n",
      "\n",
      "* great postgresql integration\n",
      " * arrays, ranges, Hstore, and a lot more\n",
      "* operators\n",
      " * filter by keys in a schema-less postgres store\n",
      " * politicians.c.data.op('->>')('city') == 'Austin'\n",
      "* functions\n",
      " * print(func.current_timestampe())  # CURRENT_TIMESTAMP\n",
      " \n",
      "* Reflection and compilation\n",
      " * grab existing tables without modelling them\n",
      " * can compile generated SQL into tuples for use in, say, non-blocking asynchronous database calls\n",
      " \n",
      "# \"Nobody ever got in trouble for using SQLAlchemy.\"\n",
      "\n",
      "Could use SQLAlchmey to reflect Django models and make complex queries\n",
      "\n",
      "With flask + sqlalchemy, there is a decent migration tool\n",
      "\n",
      "Author of SQLAlchemy is working on a migration tool"
     ]
    }
   ],
   "metadata": {}
  }
 ]
}