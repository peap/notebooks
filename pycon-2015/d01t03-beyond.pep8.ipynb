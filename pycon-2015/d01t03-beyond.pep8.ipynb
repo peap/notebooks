{
 "cells": [
  {
   "cell_type": "markdown",
   "metadata": {},
   "source": [
    "# Beyond PEP8 - Best Practices for Beautiful Intelligible Code\n",
    "- Raymond Hettinger"
   ]
  },
  {
   "cell_type": "markdown",
   "metadata": {},
   "source": [
    "Line lengths should probably be 90ish, rather than 79\n",
    "\n",
    "PEP8-ifying code is distracting, doesn't help code quality that much, scrambles version control history, and can introduce bugs\n",
    "\n",
    "PEP8 Golden Rule: \"PEP8 unto theyself, not unto others\"\n",
    "\n",
    "APIs should be pythonic\n",
    "- avoid unneccessary packages, create a single-file module with all the key parts if necessary\n",
    "- create custom exceptions\n",
    "- if something is iteratble, make it iterable\n",
    "- use properties instead of getters/setters\n",
    "- make context managers when you have setup/teardown logic\n",
    "- define `__repr__` to help with debugging\n",
    " - reference `self.__class__.__name__`, rather than the class' name, so subclasses get the right thing\n",
    "\n",
    "Make pythonic APIs out of the non-pythonic APIs you're given."
   ]
  }
 ],
 "metadata": {
  "kernelspec": {
   "display_name": "Python 3",
   "language": "python",
   "name": "python3"
  },
  "language_info": {
   "codemirror_mode": {
    "name": "ipython",
    "version": 3
   },
   "file_extension": ".py",
   "mimetype": "text/x-python",
   "name": "python",
   "nbconvert_exporter": "python",
   "pygments_lexer": "ipython3",
   "version": "3.4.3"
  }
 },
 "nbformat": 4,
 "nbformat_minor": 0
}
