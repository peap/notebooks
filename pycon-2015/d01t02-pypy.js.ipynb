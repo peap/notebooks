{
 "cells": [
  {
   "cell_type": "markdown",
   "metadata": {},
   "source": [
    "# PyPy.js: What? How? Why?\n",
    "- Ryan Kelly (@rfkelly)\n",
    "- Mozilla Accounts Team\n",
    "- 2015-04-10"
   ]
  },
  {
   "cell_type": "markdown",
   "metadata": {},
   "source": [
    "## The Web\n",
    "Two aspects to the web.\n",
    "\n",
    "Technology:\n",
    "- HTTP\n",
    "- HTML\n",
    "- CSS\n",
    "- JS\n",
    "\n",
    "Culture:\n",
    "- open\n",
    "- ubiquitous\n",
    "- secure\n",
    "- trustworthy\n",
    "\n",
    "We should try to make the web better! If the web is missing something good, it's a bug... like Python!"
   ]
  },
  {
   "cell_type": "markdown",
   "metadata": {},
   "source": [
    "## PyPy.js\n",
    "Not the first attempt... at least the 10th!\n",
    "\n",
    "For the web to support python, there are three criteria:\n",
    "1. Compatibility\n",
    " 1. big numbers\n",
    " 1. exceptions\n",
    " 1. access to globals()\n",
    " 1. etc.\n",
    "1. Performance\n",
    " 1. `from test import pystone`\n",
    " 1. `pystone.main()`\n",
    " 1. want same-as-system performance\n",
    "1. Web-ish-ness\n",
    " 1. not just a python console in a browser\n",
    " 1. interaction with JavaScript\n",
    " 1. `import js; js.eval('1 + 1')`\n",
    " 1. `js.globals.alert('hi!')`\n",
    "\n",
    "Can we hit all three goals?"
   ]
  },
  {
   "cell_type": "markdown",
   "metadata": {},
   "source": [
    "## PyPy.js = PyPy + Emscripten\n",
    "\n",
    "### PyPy\n",
    "- python intrepreter written in \"RPython\"\n",
    "- a toolchain for translating RPython to C\n",
    "- end up with machine-native code\n",
    "\n",
    "### Emscripten\n",
    "- an LLVM backend that generates JavaScript\n",
    "- a simulated POSIX environment, in JavaScript\n",
    "- originally for porting games to the web\n",
    "\n",
    "`asm.js`\n",
    "- \"An extraordinarily optimizable, low-level subset of JavaScript\"\n",
    "- JavaScript is a 32-bit assembly language in disguise\n",
    "\n",
    "### PyPy.js\n",
    "It's crazy to introduce all these layers, but that's what we've been doing in computing for the last 30 years anyway. The question is, is it worth it?\n",
    "\n",
    "http://arewepythonyet.com\n",
    "- currently about 1.5 faster than typical CPython on the host\n",
    "- currently about 10-20 slower than native PyPy\n",
    "- currently a lot slower than native JavaScript for DOM manipulation\n",
    "- currently about 20 MB of JS to download\n",
    "\n",
    "## Why?\n",
    "BECAUSE IT'S AWESOME\n",
    "\n",
    "<script type=\"text/python\">\n",
    "  print('heeeeeyyyy.....')\n",
    "</script>"
   ]
  }
 ],
 "metadata": {
  "kernelspec": {
   "display_name": "Python 3",
   "language": "python",
   "name": "python3"
  },
  "language_info": {
   "codemirror_mode": {
    "name": "ipython",
    "version": 3
   },
   "file_extension": ".py",
   "mimetype": "text/x-python",
   "name": "python",
   "nbconvert_exporter": "python",
   "pygments_lexer": "ipython3",
   "version": "3.4.3"
  }
 },
 "nbformat": 4,
 "nbformat_minor": 0
}
