{
 "cells": [
  {
   "cell_type": "markdown",
   "metadata": {},
   "source": [
    "# Smart services & smart clients: How micro-services change the way you build and deploy code.\n",
    "- Frank Stratton, Runscope\n",
    "- 2015-04-10"
   ]
  },
  {
   "cell_type": "code",
   "execution_count": null,
   "metadata": {
    "collapsed": true
   },
   "outputs": [],
   "source": []
  },
  {
   "cell_type": "markdown",
   "metadata": {},
   "source": [
    "If you don't invest in infrastructure, don't invest in microservices\n",
    "\n",
    "## How do you find a service?\n",
    "Smart Client\n",
    "- wrapper around `requests`\n",
    "- same API\n",
    "- accepts 'service://identity/teams' urls\n",
    " - works in all environments\n",
    "- reties failed GET/PUT/DELETE requests\n",
    "- runs HTTP requests asynchronously, if you want\n",
    "\n",
    "Atlas is their service to register services\n",
    "- uses HAProxy\n",
    "- uses HAProxy ACLs; directs traffic based on URL/headers/etc.\n",
    "\n",
    "Sidecar runs on every host\n",
    "- all service calls flow through localhost via sidecar\n",
    "\n",
    "## How do you make building services easy?\n",
    "Smart Service\n",
    "- built on top of Flask and Flask RESTful\n",
    "- Runscope/healthcheck\n",
    " - open source health monitoring microservice\n",
    "- can import settings from atlas\n",
    "- can auto-generate service skeletons\n",
    " - fully runnable service running after ~1 minute\n",
    " - reduces congnitive overhead\n",
    "\n",
    "## What happens when you have so many services?\n",
    "Automate everything!\n",
    "- setting up servers, use configuration management (eg, puppet)\n",
    "- invest in devops\n",
    "\n",
    "You become language agnostic\n",
    "- anything that talks HTTP can work; it's the common language\n",
    "\n",
    "No shared databases\n",
    "- schema changes force applications that share the database to become tied to each other\n",
    "\n",
    "Makes deploying code really easy, after investing in all the infrastructure\n",
    "\n",
    "Test and monitor your APIs\n",
    "- deployments automatically trigger API tests\n",
    "\n",
    "So many deployments every day - very empowering\n",
    "\n",
    "They try to keep all APIs backwards-compatible"
   ]
  }
 ],
 "metadata": {
  "kernelspec": {
   "display_name": "Python 3",
   "language": "python",
   "name": "python3"
  },
  "language_info": {
   "codemirror_mode": {
    "name": "ipython",
    "version": 3
   },
   "file_extension": ".py",
   "mimetype": "text/x-python",
   "name": "python",
   "nbconvert_exporter": "python",
   "pygments_lexer": "ipython3",
   "version": "3.4.3"
  }
 },
 "nbformat": 4,
 "nbformat_minor": 0
}
