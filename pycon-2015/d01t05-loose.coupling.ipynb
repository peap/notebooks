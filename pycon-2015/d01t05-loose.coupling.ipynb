{
 "cells": [
  {
   "cell_type": "markdown",
   "metadata": {},
   "source": [
    "# Stop sucking me into your drama: a personal appeal for loose coupling\n",
    "- Augie Fackler, Nathaniel Manista\n",
    "- 2015-04-10"
   ]
  },
  {
   "cell_type": "markdown",
   "metadata": {},
   "source": [
    "## How can we defend ourselves from (software) drama?\n",
    "\n",
    "### When behaving as a client\n",
    "Deliberate ignorance\n",
    "- don't worry about how the thing works\n",
    "- just use it according to its public API\n",
    "- forget your internal knowledge; request\n",
    "\n",
    "Be prudent in your dependencies\n",
    "- evaluate all your options\n",
    "- don't just pick the first one or the oldest one\n",
    "- how well documented is the library?\n",
    "- are there API guarantees?\n",
    "\n",
    "Don't necessarily use a dependency's entire feature set, especially if it's got obscure features\n",
    "- Just because today's database lets you do global tansactions doesn't mean tmorrows will\n",
    "\n",
    "### When providing an API\n",
    "Empathize!\n",
    "- put yourself if your user's place\n",
    "- what should they need to know to work with your system?\n",
    "- users want to come in, pick up your library, use it, and forget about it\n",
    "\n",
    "Question yourself anytime you say \"everybody knows\"\n",
    "- who knows assembler anymore? TCP?\n",
    "\n",
    "Your system's identity crisis\n",
    "- is it a \"utility\" or a \"solution\"?\n",
    "- is it \"transparent\" or \"encapsulating\"?\n",
    "\n",
    "Don't make your users have to become domain experts in your domain and related domains\n",
    "\n",
    "Provide both inventories and codewalks (reference vs. narrative documentation)\n",
    "- inventory: listing of all functions and things\n",
    "- codewalks: specific examples of building specific things with your system\n",
    "\n",
    "Avoid inappropriate exposure of lifecycle management\n",
    "- for example, forcing users to call initialize() after cronstructing an object\n",
    "\n",
    "Avoid side-effects on import\n",
    "\n",
    "When assembling your system, establish internal boundaries on minimal trust\n",
    "- if something fails, limit the effects to that part of the system\n",
    "- network is a natural place to draw such boundaries\n",
    "\n",
    "## Good Examples\n",
    "Django\n",
    "- don't have to use everything\n",
    "- can throw out the ORM or the template system\n",
    "\n",
    "WebDriver\n",
    "- using Firefox is the same as using Chrome or phantomjs, etc."
   ]
  }
 ],
 "metadata": {
  "kernelspec": {
   "display_name": "Python 3",
   "language": "python",
   "name": "python3"
  },
  "language_info": {
   "codemirror_mode": {
    "name": "ipython",
    "version": 3
   },
   "file_extension": ".py",
   "mimetype": "text/x-python",
   "name": "python",
   "nbconvert_exporter": "python",
   "pygments_lexer": "ipython3",
   "version": "3.4.3"
  }
 },
 "nbformat": 4,
 "nbformat_minor": 0
}
