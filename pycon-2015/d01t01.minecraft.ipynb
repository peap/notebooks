{
 "cells": [
  {
   "cell_type": "markdown",
   "metadata": {},
   "source": [
    "# Exploring Minecraft with Python\n",
    "- Kurt Grandis (@kgrandis)\n",
    "- CEO @ Parelio\n",
    "- 04/10/2015"
   ]
  },
  {
   "cell_type": "markdown",
   "metadata": {},
   "source": [
    "## The Challenge\n",
    "Can we create an environment that's easy and engaging enough to teach kids how to program?\n",
    "\n",
    "### What is Minecraft?\n",
    "It's Minecraft. It's super popular.\n",
    "\n",
    "### Coding & Minecraft?\n",
    "Console-based games aren't thaaaat exciting for kids, hence the trend toward robotics and visual programming, like with Minecraft.\n",
    "\n",
    "Raspberry Pi edition of Minecraft (Minecraft Pi Edition) has a Python API.\n",
    "\n",
    "But not everyone has a raspberry pi at home, so there's a Bukkit plugin for Minecraft: https://github.com/zhuowei/RaspberryJuice - lets you use the python API with the PC version of Minecraft\n",
    "- Mojang isn't building a python API, because RaspberryJuice is already out there\n",
    "\n",
    "## The API"
   ]
  },
  {
   "cell_type": "code",
   "execution_count": null,
   "metadata": {
    "collapsed": true
   },
   "outputs": [],
   "source": [
    "from mcpi import minecraft\n",
    "\n",
    "mc = minecraft.Minecraft.create(ip, port, my_name)\n",
    "\n",
    "# send a chat message\n",
    "mc.....\n",
    "\n",
    "# teleport\n",
    "mc.player.getPos()  # returns a Vec3 instance; could also get pitch/orientation of player\n",
    "mv.player.setPos(pos_vector)\n",
    "\n",
    "# place blocks\n",
    "from mcpi import block\n",
    "\n",
    "mc.setBlock(x, y, z, block.STONE)\n",
    "mv.setBlocks(x0, y0, z0, x1, y1, z2, block.STONE)\n",
    "\n",
    "# detect blocks\n",
    "mc.getBlock(x, y, z)\n",
    "mc.getBlocks(x0, y0, z0, x1, y1, z1)"
   ]
  },
  {
   "cell_type": "markdown",
   "metadata": {},
   "source": [
    "## Challenges"
   ]
  },
  {
   "cell_type": "code",
   "execution_count": null,
   "metadata": {
    "collapsed": true
   },
   "outputs": [],
   "source": [
    "# clear all the things\n",
    "mc.setBlocks(0, 0, 4, 100, 100, 100, block.AIR)"
   ]
  },
  {
   "cell_type": "code",
   "execution_count": null,
   "metadata": {
    "collapsed": true
   },
   "outputs": [],
   "source": [
    "# introduce writing and using functions\n",
    "wall()\n",
    "tower(height)\n",
    "sphere(radius)\n",
    "pyramid(width, height)\n",
    "house()\n",
    "lava(x, y, z)\n",
    "water(x, y z)"
   ]
  },
  {
   "cell_type": "code",
   "execution_count": null,
   "metadata": {
    "collapsed": true
   },
   "outputs": [],
   "source": [
    "# create your own teleporter by watching for the player stepping on a certain block, then changing their position"
   ]
  },
  {
   "cell_type": "markdown",
   "metadata": {},
   "source": [
    "## Resources: Servers\n",
    "- simple short term server hosting\n",
    " - meant to be easy for educators to use during workshops\n",
    "- AWS images\n",
    "- http://cubedhost.com\n",
    "\n",
    "Martin O'Hanlon\n",
    "- http://www.stuffaboutcode.com/\n",
    "- \"Adventures in Minecraft\" book\n",
    "\n",
    "Community Projects\n",
    "- https://mcpipy.wordpress.com"
   ]
  },
  {
   "cell_type": "markdown",
   "metadata": {},
   "source": [
    "## Closing Thoughts\n",
    "- still an exciting thing - recent acquisition by Microsoft\n",
    "- great tool to teach programming\n",
    "- it's one tool, though - some might not like it"
   ]
  }
 ],
 "metadata": {
  "kernelspec": {
   "display_name": "Python 3",
   "language": "python",
   "name": "python3"
  },
  "language_info": {
   "codemirror_mode": {
    "name": "ipython",
    "version": 3
   },
   "file_extension": ".py",
   "mimetype": "text/x-python",
   "name": "python",
   "nbconvert_exporter": "python",
   "pygments_lexer": "ipython3",
   "version": "3.4.3"
  }
 },
 "nbformat": 4,
 "nbformat_minor": 0
}
