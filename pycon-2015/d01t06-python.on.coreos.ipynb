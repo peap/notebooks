{
 "cells": [
  {
   "cell_type": "markdown",
   "metadata": {},
   "source": [
    "# Fire your `supervisord`: running Python on CoreOS\n",
    "- Dan Callahan (@callahad)\n",
    "- 2015-04-10\n",
    "- http://github.com/callahad/pycon2015-coreos"
   ]
  },
  {
   "cell_type": "raw",
   "metadata": {},
   "source": [
    "This is a talk about servers. What does containerization mean for our systems?\n",
    "\n",
    "CoreOS is a Linux distribution designed for running containers.\n",
    "\n",
    "What's your ideal platform?\n",
    "- stays updated\n",
    "- won't break apps\n",
    "- survives outages\n",
    "\n",
    "We need something declarative\n",
    "- \"always keep two instances running, but never on the same machine\"\n",
    "\n",
    "We need new technology\n",
    "- better system updates\n",
    " - FastPatch\n",
    "- application isolation from host envrionment\n",
    " - Docker/rkt\n",
    "- cluster units to form a single\n",
    " - etcd\n",
    "- task distribution amongst cluster\n",
    " - Fleet/Kubernetes \n",
    "\n",
    "## System Updates\n",
    "FastPatch\n",
    "- tries to shorten time between when a patch is released and when it's applied\n",
    "- update channels\n",
    "- updates distributed as a whole ISO of the CoreOS system\n",
    "- system divided into three partitions: A, B, Data\n",
    " - Update B while A is running, reboot into B\n",
    " - can reboot into A if the update was bad\n",
    "- updates are atomic; it either all works or all fails\n",
    "\n",
    "But how to you keep your app online\n",
    "\n",
    "# Con\n",
    "Etcd\n",
    "- key-value store\n",
    "\n",
    "too fast..."
   ]
  }
 ],
 "metadata": {
  "kernelspec": {
   "display_name": "Python 3",
   "language": "python",
   "name": "python3"
  },
  "language_info": {
   "codemirror_mode": {
    "name": "ipython",
    "version": 3
   },
   "file_extension": ".py",
   "mimetype": "text/x-python",
   "name": "python",
   "nbconvert_exporter": "python",
   "pygments_lexer": "ipython3",
   "version": "3.4.3"
  }
 },
 "nbformat": 4,
 "nbformat_minor": 0
}
