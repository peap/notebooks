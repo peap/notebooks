{
 "metadata": {
  "name": ""
 },
 "nbformat": 3,
 "nbformat_minor": 0,
 "worksheets": [
  {
   "cells": [
    {
     "cell_type": "markdown",
     "metadata": {},
     "source": [
      "# Developing Web Services with Bottle\n",
      "_Jeff Kramer_"
     ]
    },
    {
     "cell_type": "markdown",
     "metadata": {},
     "source": [
      "## Bottle URL: http://bottlepy.org/docs/dev/  \n",
      "## Example Bottle server app"
     ]
    },
    {
     "cell_type": "code",
     "collapsed": false,
     "input": [
      "from bottle import route, request, redirect, HTTPResponse, run\n",
      "\n",
      "@route('/')\n",
      "def hello():\n",
      "    return 'Hello client!\\n'\n",
      "\n",
      "@route('/multiply/:a/:b/')\n",
      "def multiply(a=1, b=1):\n",
      "    if not is_int(a) or not is_not(b):\n",
      "        raise HTTPResponse(output='Only integers are supported', status=400)\n",
      "    return str(int(a) * int(b))\n",
      "\n",
      "@route('/echo', method='POST')\n",
      "@route('/echo/', method='POST')\n",
      "def echo():\n",
      "    return request.body.read() + '\\n'\n",
      "\n",
      "@route('/old')\n",
      "def new_home():\n",
      "    return redirect('/')\n",
      "\n",
      "def is_int(a=''):\n",
      "    '''determines if we have an integer'''\n",
      "    try:\n",
      "        int(a)\n",
      "    except ValueError:\n",
      "        return False\n",
      "    return True\n",
      "    \n",
      "# don't run it in IP[y] Notebook...\n",
      "#run(port=8080, debug=True, reloader=True)"
     ],
     "language": "python",
     "metadata": {},
     "outputs": [],
     "prompt_number": 9
    },
    {
     "cell_type": "markdown",
     "metadata": {},
     "source": [
      "## Bottle example app 2 (using first example's API)"
     ]
    },
    {
     "cell_type": "code",
     "collapsed": false,
     "input": [
      "import urllib\n",
      "from bottle import route, run, template, static_file, request\n",
      "\n",
      "\n",
      "@route('/')\n",
      "@route('/', method='POST')\n",
      "def multiply():\n",
      "    a = request.forms.get('a')\n",
      "    b = request.forms.get('b')\n",
      "    if a and b:\n",
      "        api_url = 'http://localhost:8000/multiply/{0}/{1}/'.format(a, b)\n",
      "        try:\n",
      "            greeting = urllib.urlopen(api_url).read()\n",
      "        except urllib.HTTPError as e:\n",
      "            greeting = 'API Error: {0}'.format(e.read())\n",
      "    else:\n",
      "        greeting = 'hello world'\n",
      "    # template() assumes .tpl file extension\n",
      "    return template('multiply', greeting=greeting)\n",
      "\n",
      "@route('/static/<filename:path>')\n",
      "def send_static(filename):\n",
      "    return static_file(filename, root='./static/')\n",
      "\n",
      "# don't run it in IP[y] Notebook...\n",
      "#run(port=8000, reloader=True, debug=True)"
     ],
     "language": "python",
     "metadata": {},
     "outputs": [],
     "prompt_number": 16
    },
    {
     "cell_type": "raw",
     "metadata": {},
     "source": [
      "multiply.tpl:"
     ]
    },
    {
     "cell_type": "raw",
     "metadata": {},
     "source": [
      "<!DOCTYPE html>\n",
      "<html>\n",
      "<head>\n",
      "    <title>Multiply!</title>\n",
      "    <link type=\"text/css\" rel=\"stylesheet\" href=\"/static/style.css\">\n",
      "</head>\n",
      "<body>\n",
      "    <h1>Multiply!</h1>\n",
      "{{ greeting }}\n",
      "% for letter in str(greeting):\n",
      "{{ char * 2 }}\n",
      "% end\n",
      "\n",
      "% try:\n",
      "% int(greeting)\n",
      "<h2>{{ greeting }} squared is {{ int(greeting) ** 2 }}</h2>\n",
      "% except ValueError:\n",
      "<h2 class=\"error\">{{ greeting }} is not an integer!</h2>\n",
      "% end\n",
      "</body>\n",
      "</html>"
     ]
    },
    {
     "cell_type": "markdown",
     "metadata": {},
     "source": [
      "## Websockets\n",
      "Using gevent and bottle...  \n",
      "Turn a view function into a generator and return data as it becomes available over websockets  \n",
      "gevent: Python network library that uses greenlet and libevent for easy and scalable concurrency  \n",
      "\n",
      "* patches a bunch of stuff in the standard library, including socket\n",
      "* turns lots of things into coroutines\n",
      "* the patched sleep() doesn't block; other code can execute in the meantime"
     ]
    }
   ],
   "metadata": {}
  }
 ]
}