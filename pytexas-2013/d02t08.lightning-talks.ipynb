{
 "metadata": {
  "name": ""
 },
 "nbformat": 3,
 "nbformat_minor": 0,
 "worksheets": [
  {
   "cells": [
    {
     "cell_type": "markdown",
     "metadata": {},
     "source": [
      "# Docker"
     ]
    },
    {
     "cell_type": "markdown",
     "metadata": {},
     "source": [
      "* Virtualization layer\n",
      "* Cargo container for your service\n",
      "* Pack, ship, run services really easily in a completely isolated environment\n",
      "* Canonical OS is Ubuntu currently\n",
      "* Docker is like git for filesystems (push and pull primitives)\n",
      "* Faithfully reproduces the environment/filesystem\n",
      "* example: git clone https://github.com/mrallen1/dice-service"
     ]
    },
    {
     "cell_type": "markdown",
     "metadata": {},
     "source": [
      "* https://github.com/tendenci/tendenci\n",
      "* with fabric:  fab launch:tendpy"
     ]
    }
   ],
   "metadata": {}
  }
 ]
}