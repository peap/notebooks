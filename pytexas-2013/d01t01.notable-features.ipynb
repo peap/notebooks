{
 "metadata": {
  "name": ""
 },
 "nbformat": 3,
 "nbformat_minor": 0,
 "worksheets": [
  {
   "cells": [
    {
     "cell_type": "heading",
     "level": 1,
     "metadata": {},
     "source": [
      "Day 1: Notable Features of Python"
     ]
    },
    {
     "cell_type": "markdown",
     "metadata": {},
     "source": [
      "by: _James Powell (http://seriously.dontusethiscode.com/)_"
     ]
    },
    {
     "cell_type": "heading",
     "level": 2,
     "metadata": {},
     "source": [
      "Functions vs. Generators"
     ]
    },
    {
     "cell_type": "markdown",
     "metadata": {},
     "source": [
      "* Generators let you model problems/functions differently.\n",
      "* Generators are often used when you need to iterate through some computed values"
     ]
    },
    {
     "cell_type": "code",
     "collapsed": false,
     "input": [
      "def gen(x):\n",
      "    yield x+1\n",
      "    yield x+2\n",
      "for x in gen(11):\n",
      "    print(x)"
     ],
     "language": "python",
     "metadata": {},
     "outputs": [
      {
       "output_type": "stream",
       "stream": "stdout",
       "text": [
        "12\n",
        "13\n"
       ]
      }
     ],
     "prompt_number": 21
    },
    {
     "cell_type": "markdown",
     "metadata": {},
     "source": [
      "Two things we do in python:\n",
      "\n",
      "* call functions\n",
      "* iterate over collections\n",
      "\n",
      "Generator expressions look like tuple comprehensions"
     ]
    },
    {
     "cell_type": "code",
     "collapsed": false,
     "input": [
      "gener1 = (x for x in range(4))\n",
      "print(gener1)\n",
      "for x in gener1:\n",
      "    print(x)\n",
      "\n",
      "def gener2(length):\n",
      "    for x in range(length):\n",
      "        yield x\n",
      "print(gener2)\n",
      "for x in gener2(4):\n",
      "    print(x)"
     ],
     "language": "python",
     "metadata": {},
     "outputs": [
      {
       "output_type": "stream",
       "stream": "stdout",
       "text": [
        "<generator object <genexpr> at 0x7f603382d820>\n",
        "0\n",
        "1\n",
        "2\n",
        "3\n",
        "<function gener2 at 0x7f6033851c20>\n",
        "0\n",
        "1\n",
        "2\n",
        "3\n"
       ]
      }
     ],
     "prompt_number": 28
    },
    {
     "cell_type": "markdown",
     "metadata": {},
     "source": [
      "An Iterator is merely an iterable and state that remembers where we were.\n",
      "\n",
      "You can think of a generator as a delayed computation; you only get results\n",
      "as you ask for them. Infinite lists!\n",
      "\n",
      "Calling a generator will run it until the first yield, then it pauses until it's\n",
      "called again.\n",
      "\n",
      "gi.next() == gi.send(None)\n",
      "\n",
      "Generators are generally used for efficiency purposes"
     ]
    },
    {
     "cell_type": "heading",
     "level": 2,
     "metadata": {},
     "source": [
      "Context Managers"
     ]
    },
    {
     "cell_type": "markdown",
     "metadata": {},
     "source": [
      "Context Managers are a good wrapper around opening files\n",
      "\n",
      "* allows you to refactor almost all gated code; handles setup and tear down\n",
      "* better semantics: makes it clear that the resource is only used in the with-block\n",
      "* automatic cleanup\n",
      "\n",
      "don't:\n",
      "\n",
      "    f = open('file.txt')\n",
      "    lines = [line for line in f.readline()]\n",
      "    f.close()\n",
      "    print(lines)\n",
      "\n",
      "do:\n",
      "\n",
      "    with open('file.txt') as f:\n",
      "        lines = [line for line in f.readline()]\n",
      "    print(lines)\n",
      "        \n",
      "watch out for resource leakage, though\n",
      "\n",
      "Use sorted() instead of [].sort()\n",
      "\n",
      "namedtuple has the same memory footprint as the equivalent tuple\n",
      "\n",
      "you can do attribute lookup in string formatting:\n"
     ]
    },
    {
     "cell_type": "code",
     "collapsed": false,
     "input": [
      "class Foo(object):\n",
      "    def __init__(self, x, y):\n",
      "        self.x, self.y = x, y\n",
      "    def __repr__(self):\n",
      "        return 'Foo({0.x}, {0.y})'.format(self)"
     ],
     "language": "python",
     "metadata": {},
     "outputs": []
    },
    {
     "cell_type": "heading",
     "level": 2,
     "metadata": {},
     "source": [
      "defaultdict"
     ]
    },
    {
     "cell_type": "code",
     "collapsed": false,
     "input": [
      "from collections import defaultdict\n",
      "\n",
      "x = defaultdict(int)  # calling int() gives you 0\n",
      "\n",
      "print(\"int() == {}\".format(int()))\n",
      "x['a'] = 1"
     ],
     "language": "python",
     "metadata": {},
     "outputs": [
      {
       "output_type": "stream",
       "stream": "stdout",
       "text": [
        "int() == 0\n"
       ]
      }
     ],
     "prompt_number": 17
    },
    {
     "cell_type": "code",
     "collapsed": false,
     "input": [
      "print(x)"
     ],
     "language": "python",
     "metadata": {},
     "outputs": [
      {
       "output_type": "stream",
       "stream": "stdout",
       "text": [
        "defaultdict(<class 'int'>, {'a': 1})\n"
       ]
      }
     ],
     "prompt_number": 18
    },
    {
     "cell_type": "code",
     "collapsed": false,
     "input": [
      "print(\"x['a'] == {}\".format(x['a']))\n",
      "print(\"x['b'] == {}\".format(x['b']))"
     ],
     "language": "python",
     "metadata": {},
     "outputs": [
      {
       "output_type": "stream",
       "stream": "stdout",
       "text": [
        "x['a'] == 1\n",
        "x['b'] == 0\n"
       ]
      }
     ],
     "prompt_number": 19
    },
    {
     "cell_type": "code",
     "collapsed": false,
     "input": [
      "default = lambda: None\n",
      "\n",
      "y = defaultdict(default)\n",
      "print(y['one'])\n",
      "y['one'] = 'hello'\n",
      "print(y['one'])\n",
      "print(y)"
     ],
     "language": "python",
     "metadata": {},
     "outputs": [
      {
       "output_type": "stream",
       "stream": "stdout",
       "text": [
        "None\n",
        "hello\n",
        "defaultdict(<function <lambda> at 0x7f603383d290>, {'one': 'hello'})\n"
       ]
      }
     ],
     "prompt_number": 20
    }
   ],
   "metadata": {}
  }
 ]
}