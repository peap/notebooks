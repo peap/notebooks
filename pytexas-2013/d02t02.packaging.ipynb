{
 "metadata": {
  "name": ""
 },
 "nbformat": 3,
 "nbformat_minor": 0,
 "worksheets": [
  {
   "cells": [
    {
     "cell_type": "markdown",
     "metadata": {},
     "source": [
      "# Nobody Expects the Python Packaging Authority\n",
      "_Nick Coghlan_ - BDFL Delegate for packaging related PEPs  \n",
      "https://bitbucket.org/ncoghlan/misc/src/default/talks/"
     ]
    },
    {
     "cell_type": "markdown",
     "metadata": {},
     "source": [
      "15 years of Python packaging:  \n",
      "\n",
      "* 1998: distutils\n",
      "* 2004: easy_install, setuptools\n",
      "* 2007: virtualenv\n",
      "* 2008: pip\n",
      "\n",
      "Where do we want to be?\n",
      "\n",
      "* Need to interoperate with other packaging systems.\n",
      "* Want to make it easy for people to get started.\n",
      "* Tools need to be reasonably fast, reliable, and secure."
     ]
    },
    {
     "cell_type": "markdown",
     "metadata": {},
     "source": [
      "## Interoperation\n",
      "### setuptools vs. distribute\n",
      "setuptools wasn't very open; distribute was forked from it to make it more open. The two merged back together in 2013.  Use setuptools 0.8+.\n",
      "### pip vs. easy_install\n",
      "pip had better defaults than easy_install. latest version of pip can do binary installs (wheels). If you can create new binaries as wheels, pip 1.4+ can do everything you'd need.\n",
      "### The Python Packaging Authority\n",
      "Where beginners can go for instruction.\n",
      "### The Science Exception\n",
      "Scientific software tends to have tougher requirements than can be handled by pip; complex build stacks - better to have seperate tools.\n",
      "\n",
      "hashdists, anaconda - treated like other packaging systems"
     ]
    },
    {
     "cell_type": "markdown",
     "metadata": {},
     "source": [
      "## Make it easy to get started\n",
      "Include pip in the standard library. Goal is to have pip come with all python 3.4 installs. Should be able to update itself."
     ]
    },
    {
     "cell_type": "markdown",
     "metadata": {},
     "source": [
      "## Fast, reliable, reasonably secure\n",
      "What prevents fast distribution?  \n",
      "\n",
      "* The mirroring system is not great as of yet. To discover all dependencies of a package, you have to actually download it and scan it; PyPI doesn't know. Now there is a new CDN donated by Fastly, so things should be speeding up.\n",
      "* Scanning of external links; packages in PyPI can no longer depend on external sources.\n",
      "* Enabling binary distribution (wheels) with pip has sped things up. Now build results can be cached locally; new virtualenvs can be built much quicker since the binaries are already built.\n",
      "* New metadata standard (PEP 426, PEP 400) in PyPI; REST-ful JSON will be available for decision making without downloading entire archives.\n",
      "\n",
      "What prevents reliable distribution?  \n",
      "\n",
      "* Hosting moved to Oregon State University servers\n",
      "* New CDN and removing external hosting improves speed and is more reliable\n",
      "\n",
      "What about the PyPI mirrors?\n",
      "\n",
      "* mirror discovery was fundamentally insecure\n",
      "* mirrors aren't going away\n",
      "* PyPI _is_ a free service with no SLA, so user beware\n",
      "* may be worthwhile to have a local mirror if it's business critical\n",
      "\n",
      "What prevents (reasonably) secure distribution?\n",
      "\n",
      "* tools were using HTTP with no package signing\n",
      "* PyPI security improvements\n",
      " * new SSL cert\n",
      " * HTTPS by default\n",
      " * docs to new domain\n",
      " * python.org to HTTPS\n",
      "* PyPI mirrors can't really be trusted. Trust local mirror, then Fastly CDN, then other mirrors"
     ]
    }
   ],
   "metadata": {}
  }
 ]
}