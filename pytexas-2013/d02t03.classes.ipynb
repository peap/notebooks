{
 "metadata": {
  "name": ""
 },
 "nbformat": 3,
 "nbformat_minor": 0,
 "worksheets": [
  {
   "cells": [
    {
     "cell_type": "markdown",
     "metadata": {},
     "source": [
      "# Classes and Metaclasses\n",
      "_James Powell_  "
     ]
    },
    {
     "cell_type": "markdown",
     "metadata": {},
     "source": [
      "## Themes\n",
      "\n",
      "* static ignorance of the interpreter\n",
      " * the interpreter doesn't know what it's looking at\n",
      " * eg., a name followed by () could be a function, class, generator, etc.\n",
      "* metaclasses are a tool for enforcing constraints from a base class to a derived class\n",
      "* CPython as a reference implementation of Python\n",
      " * Guidance for how the language is supposed to work\n",
      " * Python is a language without a spec (unlike, say, C++)\n",
      " * If something that works in CPython doesn't work in PyPy, Jython, etc., the other interpreters are not necessarily broken\n",
      "* CPython code as a source for understanding\n",
      " * simple, straight-forward\n",
      " * there exists a natural starting point\n",
      "* Python as a system language with no boundary between system and app"
     ]
    },
    {
     "cell_type": "markdown",
     "metadata": {},
     "source": [
      "## Order of the talk\n",
      "\n",
      "* contours of classes\n",
      "* class construction\n",
      "* what is a metaclass?\n",
      "* interesting things in Python 3"
     ]
    },
    {
     "cell_type": "code",
     "collapsed": false,
     "input": [
      "from sys import version_info\n",
      "print(version_info)"
     ],
     "language": "python",
     "metadata": {},
     "outputs": [
      {
       "output_type": "stream",
       "stream": "stdout",
       "text": [
        "sys.version_info(major=3, minor=3, micro=2, releaselevel='final', serial=0)\n"
       ]
      }
     ],
     "prompt_number": 5
    },
    {
     "cell_type": "markdown",
     "metadata": {},
     "source": [
      "### Contours of Classes"
     ]
    },
    {
     "cell_type": "code",
     "collapsed": false,
     "input": [
      "from math import sqrt\n",
      "\n",
      "EUCLIDEAN, STREETS = object(), object()\n",
      "\n",
      "ARENA_TYPE = STREETS\n",
      "\n",
      "# in python3, you don't need to derive from object, since there are no old-style classes\n",
      "class Mob:\n",
      "    \"\"\"\n",
      "    Any mobile object in the game.\n",
      "    \"\"\"\n",
      "# not sure why this was breaking...\n",
      "#    def __new__(cls, *args, **kwargs):\n",
      "#        # runs before instantiation\n",
      "#        return object.__new__(cls, *args, **kwargs)\n",
      "    \n",
      "    def __init__(self, x, y):\n",
      "        self._x, self._y = x, y\n",
      "    \n",
      "    def __repr__(self):\n",
      "        return '{0.__name__}({1.x}, {1.y})'.format(type(self), self)\n",
      "    \n",
      "    def __str__(self):\n",
      "        return repr(self)\n",
      "    \n",
      "    def move(self):\n",
      "        pass\n",
      "    \n",
      "    @property\n",
      "    def x(self):\n",
      "        return self._x\n",
      "    \n",
      "    @property\n",
      "    def y(self):\n",
      "        return self._y\n",
      "    \n",
      "    @x.setter\n",
      "    def x(self, value):\n",
      "        if value < 0:\n",
      "            raise ValueError(\"can't move outside of the arena\")\n",
      "        self._x = value\n",
      "        \n",
      "    @y.setter\n",
      "    def y(self, value):\n",
      "        if value < 0:\n",
      "            raise ValueError(\"can't move outside of the arena\")\n",
      "        self._y = value\n",
      "\n",
      "    if ARENA_TYPE == EUCLIDEAN:\n",
      "        @staticmethod\n",
      "        def distance(mob1, mob2):\n",
      "            return sqrt((mob1.x + mob2.x)**2 + (mob1.y + mob2.y)**2)\n",
      "    else:\n",
      "        @staticmethod\n",
      "        def distance(mob1, mob2):\n",
      "            return abs(mob1.x - mob2.x) + abs(mob1.y - mob2.y)\n",
      "\n",
      "mob1 = Mob(0, 0)\n",
      "mob2 = Mob(12, 3)\n",
      "\n",
      "Mob.distance(mob1, mob2)"
     ],
     "language": "python",
     "metadata": {},
     "outputs": [
      {
       "metadata": {},
       "output_type": "pyout",
       "prompt_number": 41,
       "text": [
        "15"
       ]
      }
     ],
     "prompt_number": 41
    },
    {
     "cell_type": "markdown",
     "metadata": {},
     "source": [
      "Instance methods are created on the fly; this does not apply to class methods or properties."
     ]
    },
    {
     "cell_type": "code",
     "collapsed": false,
     "input": [
      "mob3 = Mob(1, 1)\n",
      "assert Mob is Mob\n",
      "assert mob3 is mob3\n",
      "print(list(map(id, [mob3.x, mob3.x])))\n",
      "print(list(map(id, [mob3.move, mob3.move])))\n",
      "\n",
      "Mob.__dict__"
     ],
     "language": "python",
     "metadata": {},
     "outputs": [
      {
       "output_type": "stream",
       "stream": "stdout",
       "text": [
        "[140227895093824, 140227895093824]\n",
        "[140227747113584, 140227326980896]\n"
       ]
      },
      {
       "metadata": {},
       "output_type": "pyout",
       "prompt_number": 47,
       "text": [
        "mappingproxy({'move': <function Mob.move at 0x7f89239b4320>, '__dict__': <attribute '__dict__' of 'Mob' objects>, 'x': <property object at 0x7f89239a6998>, '__init__': <function Mob.__init__ at 0x7f89239b4170>, 'y': <property object at 0x7f89239a66d8>, '__doc__': '\\n    Any mobile object in the game.\\n    ', '__repr__': <function Mob.__repr__ at 0x7f89239b4200>, 'distance': <staticmethod object at 0x7f892399e1d0>, '__weakref__': <attribute '__weakref__' of 'Mob' objects>, '__str__': <function Mob.__str__ at 0x7f89239b4290>, '__module__': '__main__'})"
       ]
      }
     ],
     "prompt_number": 47
    },
    {
     "cell_type": "markdown",
     "metadata": {},
     "source": [
      "James likes dis"
     ]
    },
    {
     "cell_type": "code",
     "collapsed": false,
     "input": [
      "from dis import dis\n",
      "\n",
      "def create_mob():\n",
      "    return Mob(1,1)\n",
      "\n",
      "dis(create_mob)"
     ],
     "language": "python",
     "metadata": {},
     "outputs": [
      {
       "output_type": "stream",
       "stream": "stdout",
       "text": [
        "  4           0 LOAD_GLOBAL              0 (Mob) \n",
        "              3 LOAD_CONST               1 (1) \n",
        "              6 LOAD_CONST               1 (1) \n",
        "              9 CALL_FUNCTION            2 (2 positional, 0 keyword pair) \n",
        "             12 RETURN_VALUE         \n"
       ]
      }
     ],
     "prompt_number": 48
    },
    {
     "cell_type": "markdown",
     "metadata": {},
     "source": [
      "If you want to find the hooks for function calls in the CPython code, just grep for CALL_FUNCTION now.\n",
      "\n",
      "Here's where metaclasses come in... (somehow)"
     ]
    },
    {
     "cell_type": "code",
     "collapsed": false,
     "input": [
      "from dis import dis\n",
      "\n",
      "def create_monster():\n",
      "    class Monster(Mob):\n",
      "        def __init__(self, hp, *args, **kwargs):\n",
      "            self.hp = hp\n",
      "            Mob.__init__(*args, **kwargs)\n",
      "\n",
      "dis(create_monster)"
     ],
     "language": "python",
     "metadata": {},
     "outputs": [
      {
       "output_type": "stream",
       "stream": "stdout",
       "text": [
        "  4           0 LOAD_BUILD_CLASS     \n",
        "              1 LOAD_CONST               1 (<code object Monster at 0x7f895109f540, file \"<ipython-input-55-b7f99bfca70d>\", line 4>) \n",
        "              4 LOAD_CONST               2 ('Monster') \n",
        "              7 MAKE_FUNCTION            0 \n",
        "             10 LOAD_CONST               2 ('Monster') \n",
        "             13 LOAD_GLOBAL              0 (Mob) \n",
        "             16 CALL_FUNCTION            3 (3 positional, 0 keyword pair) \n",
        "             19 STORE_FAST               0 (Monster) \n",
        "             22 LOAD_CONST               0 (None) \n",
        "             25 RETURN_VALUE         \n"
       ]
      }
     ],
     "prompt_number": 55
    },
    {
     "cell_type": "markdown",
     "metadata": {},
     "source": [
      "Looking at the CPython code, you'll see that you only use the first metaclass you find in the inheritance chain. Or is it only the metaclass of the first class (as in, the class itself)?"
     ]
    },
    {
     "cell_type": "markdown",
     "metadata": {},
     "source": [
      "You can create your own object sytem in python...but probably don't."
     ]
    },
    {
     "cell_type": "markdown",
     "metadata": {},
     "source": [
      "What would you use metaclasses for?"
     ]
    },
    {
     "cell_type": "code",
     "collapsed": false,
     "input": [
      "class Monster(Mob):\n",
      "        def __init__(self, hp, *args, **kwargs):\n",
      "            self._hp = hp\n",
      "            Mob.ty__init__(*args, **kwargs)\n",
      "            \n",
      "        @property\n",
      "        def hp(self):\n",
      "            return self._hp\n",
      "\n",
      "class Boss(Monster):\n",
      "    def __init__(self, prize, *args, **kwargs):\n",
      "        self.prize = prize\n",
      "        Monster.__init__(*arg, **kwargs)\n",
      "    \n",
      "# you can ensure that classes you inherit from have certain attributes\n",
      "assert hasattr(Monster, 'hp')\n",
      "assert issubclass(Monster, Mob)\n",
      "\n",
      "# metaclasses allow you contrain derived classes at the parent class level\n",
      "# --> we don't want subclasses of Monster to be able to move outside the arena\n",
      "class metaclass(type):\n",
      "    def __init__(self, name, bases, body):\n",
      "        print(self, name, bases, body)\n",
      "        # place contraints here...\n",
      "        if name == 'Derived':\n",
      "            raise ValueError('no!')\n",
      "        return type.__init__(self, name, bases, body)\n",
      "\n",
      "class Base(metaclass=metaclass):\n",
      "    pass\n",
      "\n",
      "class Derived(Base):\n",
      "    pass"
     ],
     "language": "python",
     "metadata": {},
     "outputs": [
      {
       "ename": "ValueError",
       "evalue": "no!",
       "output_type": "pyerr",
       "traceback": [
        "\u001b[1;31m---------------------------------------------------------------------------\u001b[0m\n\u001b[1;31mValueError\u001b[0m                                Traceback (most recent call last)",
        "\u001b[1;32m<ipython-input-71-fdda81cbdfa8>\u001b[0m in \u001b[0;36m<module>\u001b[1;34m()\u001b[0m\n\u001b[0;32m     30\u001b[0m     \u001b[1;32mpass\u001b[0m\u001b[1;33m\u001b[0m\u001b[0m\n\u001b[0;32m     31\u001b[0m \u001b[1;33m\u001b[0m\u001b[0m\n\u001b[1;32m---> 32\u001b[1;33m \u001b[1;32mclass\u001b[0m \u001b[0mDerived\u001b[0m\u001b[1;33m(\u001b[0m\u001b[0mBase\u001b[0m\u001b[1;33m)\u001b[0m\u001b[1;33m:\u001b[0m\u001b[1;33m\u001b[0m\u001b[0m\n\u001b[0m\u001b[0;32m     33\u001b[0m     \u001b[1;32mpass\u001b[0m\u001b[1;33m\u001b[0m\u001b[0m\n",
        "\u001b[1;32m<ipython-input-71-fdda81cbdfa8>\u001b[0m in \u001b[0;36m__init__\u001b[1;34m(self, name, bases, body)\u001b[0m\n\u001b[0;32m     24\u001b[0m         \u001b[1;31m# place contraints here...\u001b[0m\u001b[1;33m\u001b[0m\u001b[1;33m\u001b[0m\u001b[0m\n\u001b[0;32m     25\u001b[0m         \u001b[1;32mif\u001b[0m \u001b[0mname\u001b[0m \u001b[1;33m==\u001b[0m \u001b[1;34m'Derived'\u001b[0m\u001b[1;33m:\u001b[0m\u001b[1;33m\u001b[0m\u001b[0m\n\u001b[1;32m---> 26\u001b[1;33m             \u001b[1;32mraise\u001b[0m \u001b[0mValueError\u001b[0m\u001b[1;33m(\u001b[0m\u001b[1;34m'no!'\u001b[0m\u001b[1;33m)\u001b[0m\u001b[1;33m\u001b[0m\u001b[0m\n\u001b[0m\u001b[0;32m     27\u001b[0m         \u001b[1;32mreturn\u001b[0m \u001b[0mtype\u001b[0m\u001b[1;33m.\u001b[0m\u001b[0m__init__\u001b[0m\u001b[1;33m(\u001b[0m\u001b[0mself\u001b[0m\u001b[1;33m,\u001b[0m \u001b[0mname\u001b[0m\u001b[1;33m,\u001b[0m \u001b[0mbases\u001b[0m\u001b[1;33m,\u001b[0m \u001b[0mbody\u001b[0m\u001b[1;33m)\u001b[0m\u001b[1;33m\u001b[0m\u001b[0m\n\u001b[0;32m     28\u001b[0m \u001b[1;33m\u001b[0m\u001b[0m\n",
        "\u001b[1;31mValueError\u001b[0m: no!"
       ]
      },
      {
       "output_type": "stream",
       "stream": "stdout",
       "text": [
        "<class '__main__.Base'> Base () {'__qualname__': 'Base', '__module__': '__main__'}\n",
        "<class '__main__.Derived'> Derived (<class '__main__.Base'>,) {'__qualname__': 'Derived', '__module__': '__main__'}\n"
       ]
      }
     ],
     "prompt_number": 71
    }
   ],
   "metadata": {}
  }
 ]
}