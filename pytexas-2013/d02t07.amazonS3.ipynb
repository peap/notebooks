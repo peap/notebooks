{
 "metadata": {
  "name": ""
 },
 "nbformat": 3,
 "nbformat_minor": 0,
 "worksheets": [
  {
   "cells": [
    {
     "cell_type": "markdown",
     "metadata": {},
     "source": [
      "# Amazon S3 Python and Django\n",
      "#### Basic understanding of using Python and Django with S3  \n",
      "_Eloy Zuniga Jr._  \n",
      "https://github.com/eloyz/"
     ]
    },
    {
     "cell_type": "markdown",
     "metadata": {},
     "source": [
      "* Amazon provides access control in the form of ACL (access control lists)\n",
      "* You can use the boto package to connection to S3\n",
      "* AWS S3 requires you to create buckets; they must have globally unique names\n",
      "* Buckets are not meant to be viewed as folders; they have keys, not directories and files\n",
      "* keys have a key, which is essentially it's path from which it will be served, however\n",
      "* keys are not written to S3 until you set their contents\n",
      "* you can also set metadata, like Content-Type"
     ]
    },
    {
     "cell_type": "markdown",
     "metadata": {},
     "source": [
      "To use S3 with django:\n",
      "\n",
      "    $ pip install django-storages  \n",
      "\n",
      "Then, in your project, make a storage.py:\n",
      "\n",
      "    from storages.backends.s3boto import S3BotoStorage\n",
      "    \n",
      "    StaticRootS3BotoStorage = lambda: S3BotoStorage(locaiton='static')\n",
      "    MediaRootS3BotoStorage = lamdba: S3BotoStorage(location='media')\n",
      "    \n",
      "In settings.py:\n",
      "\n",
      "    # or whatever these Django settings are\n",
      "    STATICFILE_STORAGE = 'storage.StaticRootS3BotoStorage'\n",
      "    MEDIA_FILE_STORAGE = 'storage.MediaRootS3BotoStorage'\n",
      "    \n",
      "In a view:\n",
      "\n",
      "    from django.core.files.storage import default_storage\n",
      "    \n",
      "    my_path = '/some/key/file.txt'\n",
      "    my_file = default_storage.open(path)"
     ]
    }
   ],
   "metadata": {}
  }
 ]
}