{
 "metadata": {
  "name": ""
 },
 "nbformat": 3,
 "nbformat_minor": 0,
 "worksheets": [
  {
   "cells": [
    {
     "cell_type": "markdown",
     "metadata": {},
     "source": [
      "# Managing web applications with DevOps and Chef\n",
      "_Jim Rosser_"
     ]
    },
    {
     "cell_type": "markdown",
     "metadata": {},
     "source": [
      "## Chef\n",
      "_Configuration management tool_\n",
      "\n",
      "Puppet sucks...apparently\n",
      "\n",
      "Chef server has node objects and cookbooks\n",
      "\n",
      "Nodes are chef clients: VMs, cloud instances, and physical servers\n",
      "\n",
      "Administrator's workstation has knife, which reads settings and cookbooks, which are kept in a repo. These are pushed to the chef server.\n",
      "\n",
      "Chef recipes are written in Ruby\n",
      "\n",
      "Developers can use vagrant to develop sites and use the same cookbook "
     ]
    }
   ],
   "metadata": {}
  }
 ]
}