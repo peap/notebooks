{
 "metadata": {
  "name": ""
 },
 "nbformat": 3,
 "nbformat_minor": 0,
 "worksheets": [
  {
   "cells": [
    {
     "cell_type": "markdown",
     "metadata": {},
     "source": [
      "# DTrace, Python and You\n",
      "_Mark Allen_"
     ]
    },
    {
     "cell_type": "markdown",
     "metadata": {},
     "source": [
      "[DTrace](http://dtrace.org/) is an observability tool; it can observe all the layers of your program, all the way down to the kernel.  \n",
      "\n",
      "* DTrace vs. profiler?\n",
      " * DTrace is more of a complement to a profile, not a competitor. DTrace is a more general tool than a domain-specific profiler.\n",
      "* DTrace vs. debugger?\n",
      " * again, it's a complement\n",
      " \n",
      "DTrace enabled OSes:\n",
      "\n",
      "* Solaris 10+\n",
      "* Illumos\n",
      " * SmartOS\n",
      " * OmniOS\n",
      "* FreeBSD\n",
      "* Mac OS X\n",
      "\n",
      "What about Linux? Nope. Licensing problems. Look at DTrace 4; it has about 40% of the features, but no application insight."
     ]
    },
    {
     "cell_type": "markdown",
     "metadata": {},
     "source": [
      "## Terms\n",
      "Probe: ...  \n",
      "Provider: In our case, the python binary is the provider  \n",
      "Consumer: A user-mode pgoram that calls into DTrace; written in a language called D  "
     ]
    },
    {
     "cell_type": "markdown",
     "metadata": {},
     "source": [
      "## D Language Overview\n",
      "awk-like\n",
      "\n",
      "* define a probe, optional predicate, and optional actions in a braced clause\n",
      "* supports BEGIN and END block\n",
      "* local variables (this->foo = 42)\n",
      "* aggregate/associative variables (prefixed with @)\n",
      "* one liner support in the form\n",
      "\n",
      "### Example1:\n",
      "\n",
      "    #!/usr/sbin/dtrace -qFZs\n",
      "    # -q: quiet (no extraneous output)\n",
      "    # -F: track trace depth\n",
      "    # -Z: OK if no probes match\n",
      "    # -s: probes I care about...\n",
      "    \n",
      "    # DTrace docs for python list all of the hooks\n",
      "    function-entry,\n",
      "    function-return\n",
      "    {\n",
      "        /* arg1 is subroutine name */\n",
      "        trace(copyinstr(arg1))\n",
      "    }\n",
      "\n",
      "### Example 2:\n",
      "\n",
      "    #!/usr/sbin/dtrace -qZs\n",
      "    \n",
      "    # get the 10 most-called functions\n",
      "    \n",
      "    function-entry\n",
      "    {\n",
      "        /* count sub entries by package and sub name\n",
      "         * arg0 = source file name\n",
      "         * arg1 = function name */\n",
      "        @[strjoin(strjoin(copyinstr(arg0),\"-\"),copyinstr(arg1))] = count()\n",
      "    }\n",
      "    \n",
      "    END\n",
      "    {\n",
      "        /* give me top 10 higest counts; throw away rest */\n",
      "        trunc(@, 10)\n",
      "    }\n",
      "\n",
      "### Common aggregation functions\n",
      "\n",
      "* avg\n",
      "* count\n",
      "* lquantize (linear)\n",
      "* quantize (log - power of 2)\n",
      "* sum\n",
      "* min\n",
      "* max\n",
      "\n",
      "Normally, you see the average of 1000 executions of your code with a profiler, but you lose the outliers. DTrace, using quantize, gives you a histogram so you can catch the outliers."
     ]
    },
    {
     "cell_type": "markdown",
     "metadata": {},
     "source": [
      "## DTrace and Python\n",
      "One of the few languages that's not supported out of the box.\n",
      "\n",
      "Easiest way to get DTrace support is to use homebrew to build python with DTrace\n",
      "\n",
      "### Available Probes (just some?)\n",
      "\n",
      "function-entry  \n",
      "function-return  \n",
      "line  \n",
      "(FILE, FUNCTION, LINE)  \n",
      "\n",
      "instance-new-start  \n",
      "instance-new-done  \n",
      "instance-delete-start  \n",
      "instance-delete-done  \n",
      "(CLASS_NAME, FILE)\n",
      "\n",
      "You can write your own DTrace probes in python using http://tmetsch.github.io/python-dtrace/ (on PyPI, too)."
     ]
    },
    {
     "cell_type": "markdown",
     "metadata": {},
     "source": [
      "## Resources\n",
      "\n",
      "* http://dtracehol.com/#Intro (hol == hands-on lab; step-by-step lab using virtualbox)\n",
      "* http://dtrace.org/guide/preface.html\n",
      "* http://dtracebook.com/index.php/Languages#Python\n",
      "* http://www.amazon.com/dp/0132091518\n",
      "\n",
      "Because of Joyent, JavaScript probably has the best DTrace support right now"
     ]
    }
   ],
   "metadata": {}
  }
 ]
}