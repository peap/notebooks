{
 "metadata": {
  "name": ""
 },
 "nbformat": 3,
 "nbformat_minor": 0,
 "worksheets": [
  {
   "cells": [
    {
     "cell_type": "heading",
     "level": 1,
     "metadata": {},
     "source": [
      "Using Nginx, Gunicorn, and Upstart to serve a WSGI app"
     ]
    },
    {
     "cell_type": "markdown",
     "metadata": {},
     "source": [
      "_John-Michael Oswalt_ - https://github.com/jmoswalt/pytexas2013"
     ]
    },
    {
     "cell_type": "markdown",
     "metadata": {},
     "source": [
      "This was a demo of getting the Django example app, polls, running in an Ubuntu VM hosted at DigitalOcean."
     ]
    },
    {
     "cell_type": "markdown",
     "metadata": {},
     "source": [
      "/etc/nginx/nginx.conf:\n",
      "----------------------\n",
      "\n",
      "    server {\n",
      "        listen 80;      # listen on the standard port\n",
      "        server_name _;  # normally, you'd set this to your domain name or IP address\n",
      "    \n",
      "        root /opt/apps/django-polls/;\n",
      "        access_log /var/log/nginx/polls_access.log;\n",
      "        error_log /var/log/nginx/polls_errors.log;\n",
      "    \n",
      "        charset   utf-8;\n",
      "        keepalive_timeout  65;\n",
      "        client_max_body_size  30M;\n",
      "    \n",
      "        location /static/ {  # have nginx serve static content\n",
      "            access_log off;  # don't care about logging for static files\n",
      "            expires 30d;     # in-browser caching\n",
      "        }\n",
      "    \n",
      "        location / {  # pass requests along to gunicorn\n",
      "            proxy_set_header X-Forwarded-For $proxy_add_x_forwarded_for;\n",
      "            proxy_set_header Host $host;\n",
      "            proxy_set_header X-Forwarded-Proto $scheme;\n",
      "            proxy_pass http://127.0.0.1:8000/;  # so gunicorn can see the actual request IP address\n",
      "        }\n",
      "    }"
     ]
    },
    {
     "cell_type": "markdown",
     "metadata": {},
     "source": [
      "/etc/init/polls.conf (upstart file)\n",
      "-----------------------------------\n",
      "\n",
      "    description \"Django Polls Upstart Script\"\n",
      "    start on runlevel [2345]\n",
      "    stop on runlevel [06]\n",
      "    kill timeout 300\n",
      "    respawn\n",
      "    respawn limit 10 5\n",
      "    \n",
      "    script\n",
      "      cd /opt/apps/django-polls\n",
      "      . venv/bin/activate\n",
      "      exec gunicorn -w 2 -b 127.0.0.1:8000 mysite.wsgi:application\n",
      "      # -w 2: use two worker processes\n",
      "      # -b 127.0.0.1:8000: bind address\n",
      "      # mysite.wsgi: python path to wsgi server in django project\n",
      "      # application: python variable in mysite.wsgi that points to Django app\n",
      "    end script"
     ]
    }
   ],
   "metadata": {}
  }
 ]
}