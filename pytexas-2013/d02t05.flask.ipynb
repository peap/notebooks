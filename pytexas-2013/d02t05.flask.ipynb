{
 "metadata": {
  "name": ""
 },
 "nbformat": 3,
 "nbformat_minor": 0,
 "worksheets": [
  {
   "cells": [
    {
     "cell_type": "markdown",
     "metadata": {},
     "source": [
      "# Flask: a Micro Web Framework for Simple Things\n",
      "_Walker Hale_"
     ]
    },
    {
     "cell_type": "markdown",
     "metadata": {},
     "source": [
      "http://flask.pocoo.org/  \n",
      "Flask and Bottle are competeing micro web frameworks  \n",
      "Bottle is a single file  \n",
      "Use whatever comes with your distro  \n",
      "Say you've got a solved problem you want to throw on the web  \n",
      "Flask apps are WSGI apps"
     ]
    },
    {
     "cell_type": "code",
     "collapsed": false,
     "input": [
      "from flask import Flask, render_template\n",
      "app = Flask('demo-flask')\n",
      "\n",
      "@app.route('/')\n",
      "def index():\n",
      "    return 'Index page...'\n",
      "\n",
      "@app.route('/hello')\n",
      "def hello():\n",
      "    return 'Hey...'\n",
      "\n",
      "@app.route('/users/<user_name>/')\n",
      "def user_profile(user_name):\n",
      "    return 'Hi {0}'.format(user_name)\n",
      "\n",
      "@app.route('/add10/<int:in_data>/')\n",
      "def demo_int(in_data):\n",
      "    # we're only routed here if in_data can be converted to an int\n",
      "    return 10 + in_data"
     ],
     "language": "python",
     "metadata": {},
     "outputs": [],
     "prompt_number": 4
    },
    {
     "cell_type": "markdown",
     "metadata": {},
     "source": [
      "These represent a great opportunity for scaling down...you could do a wiki if relatively few lines of code, for example."
     ]
    }
   ],
   "metadata": {}
  }
 ]
}