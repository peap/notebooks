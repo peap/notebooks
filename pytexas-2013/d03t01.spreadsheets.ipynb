{
 "metadata": {
  "name": ""
 },
 "nbformat": 3,
 "nbformat_minor": 0,
 "worksheets": [
  {
   "cells": [
    {
     "cell_type": "markdown",
     "metadata": {},
     "source": [
      "# Python & Spreadsheets\n",
      "_Kojo Idrissa_"
     ]
    },
    {
     "cell_type": "markdown",
     "metadata": {},
     "source": [
      "His goal is to grow python by bringing non-programmers into python programming. For example, spreadsheet users may be likely to be converted to python, especially if there is an easy interface to using spreadsheets. (\"Spreadsheet jocks as programmers\")"
     ]
    },
    {
     "cell_type": "markdown",
     "metadata": {},
     "source": [
      "## Why?\n",
      "\n",
      "* lots of data already in spreadsheets\n",
      "* growing python\n",
      " * spreadsheet jocks as progrgs\n",
      "* remove/reduce repititve taskas they face\n",
      "* excel's flaw for data analysis\n",
      " * partially automated, partially manual\n",
      " * allows/encourages/requires sloppy daya, not well-structured data, partially because it's a virsual format"
     ]
    },
    {
     "cell_type": "markdown",
     "metadata": {},
     "source": [
      "## Spreadsheet Formats\n",
      "\n",
      "* Excel\n",
      " * .xls vs. xlsx\n",
      "* Libre/OpenOffice\n",
      "* To libraries\n",
      " * [OpenPyXL](pythonhosted.org/openpyxl/index.html): works with .xlsx\n",
      " * [xlrd/xlwrt/xlUtils](www.python-excel.org): works with .xls"
     ]
    },
    {
     "cell_type": "markdown",
     "metadata": {},
     "source": [
      "## What: Three Steps\n",
      "1. Reading data from a spreadsheet w/python\n",
      "2. Processing spreadsheet data w/python\n",
      "3. Writing data to aspreadsheet w/python"
     ]
    },
    {
     "cell_type": "code",
     "collapsed": false,
     "input": [
      "from openpyxl import load_workbook\n",
      "\n",
      "FILE_NAME = 'spreadsheet.xlsx'\n",
      "SHEET_NAME = 'Sheet1'\n",
      "\n",
      "wb = load_workbook(filename=FILE_NAME)\n",
      "sheet = wb.get_sheet_by_name(SHEET_NAME)\n"
     ],
     "language": "python",
     "metadata": {},
     "outputs": [],
     "prompt_number": 4
    }
   ],
   "metadata": {}
  }
 ]
}