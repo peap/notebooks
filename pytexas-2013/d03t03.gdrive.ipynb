{
 "metadata": {
  "name": ""
 },
 "nbformat": 3,
 "nbformat_minor": 0,
 "worksheets": [
  {
   "cells": [
    {
     "cell_type": "markdown",
     "metadata": {},
     "source": [
      "# Python Applications with Google Drive SDK\n",
      "_Paul Bailey_  \n",
      "http://bit.ly/pydrive"
     ]
    },
    {
     "cell_type": "markdown",
     "metadata": {},
     "source": [
      "https://developers.google.com/drive/quickstart-python"
     ]
    },
    {
     "cell_type": "markdown",
     "metadata": {},
     "source": [
      "Example Google Drive Apps\n",
      "\n",
      "* image editor: pixlr\n",
      "* online diagramming: draw.io\n",
      "* code editor: neutron drive (the presenter's app)"
     ]
    },
    {
     "cell_type": "markdown",
     "metadata": {},
     "source": [
      "## Getting Started\n",
      "\n",
      "* install App Engine SDK\n",
      "* install Google Drive SDK\n",
      "* Go to the API console, turn on Drive API and Drive SDK\n",
      "* Setup API Access to create an OAuth ID"
     ]
    },
    {
     "cell_type": "code",
     "collapsed": false,
     "input": [
      "# in local_settings.py...\n",
      "\n",
      "PRIV_GOOGLE_API_CLIENT_ID = '...'\n",
      "PRIV_GOOGLE_API_CLIENT_SECRET = '...'"
     ],
     "language": "python",
     "metadata": {},
     "outputs": [],
     "prompt_number": 1
    },
    {
     "cell_type": "markdown",
     "metadata": {},
     "source": [
      "## OAuth\n",
      "Your application directs the user to the 3rd party, where they log in. That service (Google) then sends you a token that you can use to make requests to the 3rd party on the user's behalf."
     ]
    },
    {
     "cell_type": "code",
     "collapsed": false,
     "input": [
      "from google.appengine.ext import db\n",
      "from oauth2client.appengine import CredentialsProperty\n",
      "\n",
      "class Credentials(db.Model):\n",
      "    credentials = CredentialsProperty()\n",
      "    created = db.DateTimeProperty(auto_now_add=True)\n",
      "\n",
      "# in settings.py...\n",
      "\n",
      "# you generally try to use the least permissive scopes you need\n",
      "# don't ask for the full drive unless you absolutely need to\n",
      "ALL_SCOPES = (\n",
      "    '...',\n",
      "    '...',\n",
      ")"
     ],
     "language": "python",
     "metadata": {},
     "outputs": []
    },
    {
     "cell_type": "markdown",
     "metadata": {},
     "source": [
      "In your views, you'd have a view to redirect the user to the Google login page if the don't have a cookie with the OAuth token."
     ]
    },
    {
     "cell_type": "markdown",
     "metadata": {},
     "source": [
      "## Communicating with Google Drive\n",
      "Like with Amazon S3, all resources are identified with IDs, rather than actual paths (even though the IDs might look like paths).  \n",
      "Don't need to write your own file picker or sharing dialog  \n",
      "There is also the Realtime API, which lets people edit a file at the same time  "
     ]
    },
    {
     "cell_type": "markdown",
     "metadata": {},
     "source": [
      "## Other\n",
      "Check out PyDrive; shows a lot of common tasks  \n",
      "Recent changes make a lot of things simpler  \n",
      "More complex example: DrEdit"
     ]
    }
   ],
   "metadata": {}
  }
 ]
}