{
 "metadata": {
  "name": ""
 },
 "nbformat": 3,
 "nbformat_minor": 0,
 "worksheets": [
  {
   "cells": [
    {
     "cell_type": "markdown",
     "metadata": {},
     "source": [
      "# Unit Testing Django Apps with mock\n",
      "_Jeremy Boyd_\n",
      "https://github.com/boydjj"
     ]
    },
    {
     "cell_type": "markdown",
     "metadata": {},
     "source": [
      "Django's \"unit test\" $\\ne$ normal \"unit test\"  \n"
     ]
    },
    {
     "cell_type": "code",
     "collapsed": false,
     "input": [],
     "language": "python",
     "metadata": {},
     "outputs": []
    },
    {
     "cell_type": "markdown",
     "metadata": {},
     "source": [
      "## The mock library\n",
      "Provides two big utilities\n",
      "\n",
      "* patch\n",
      "* mock and MagicMock"
     ]
    },
    {
     "cell_type": "code",
     "collapsed": false,
     "input": [
      "#from mock import patch"
     ],
     "language": "python",
     "metadata": {},
     "outputs": [],
     "prompt_number": 2
    },
    {
     "cell_type": "markdown",
     "metadata": {},
     "source": [
      "What's a Mock?\n",
      "\n",
      "* An object that \"has\" every attribute (they are all Mock's too)\n",
      "* ...too fast"
     ]
    }
   ],
   "metadata": {}
  }
 ]
}